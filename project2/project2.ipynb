{
 "cells": [
  {
   "cell_type": "markdown",
   "id": "52c478b6",
   "metadata": {},
   "source": [
    "# Importation of Libraries"
   ]
  },
  {
   "cell_type": "code",
   "execution_count": 1,
   "id": "55711bd9",
   "metadata": {
    "scrolled": true
   },
   "outputs": [],
   "source": [
    "import numpy as np\n",
    "import pandas as pd\n",
    "from sklearn.utils import shuffle\n",
    "from sklearn.model_selection import train_test_split\n",
    "from sklearn.linear_model import LogisticRegression\n",
    "from sklearn.model_selection import GridSearchCV\n",
    "from sklearn.model_selection import cross_val_score\n",
    "from sklearn.svm import SVC\n",
    "from sklearn.metrics import RocCurveDisplay\n",
    "from sklearn.datasets import load_wine\n",
    "import torch\n",
    "import transformers as ppb\n",
    "from sklearn.metrics import log_loss"
   ]
  },
  {
   "cell_type": "markdown",
   "id": "86eb0a5f",
   "metadata": {},
   "source": [
    "## Start time"
   ]
  },
  {
   "cell_type": "code",
   "execution_count": 2,
   "id": "d8bf0dd6",
   "metadata": {},
   "outputs": [],
   "source": [
    "import time\n",
    "start=time.time()"
   ]
  },
  {
   "cell_type": "markdown",
   "id": "712fbe9e",
   "metadata": {},
   "source": [
    "## Importation of data"
   ]
  },
  {
   "cell_type": "code",
   "execution_count": 3,
   "id": "25656f15",
   "metadata": {},
   "outputs": [],
   "source": [
    "df = pd.read_csv(\"Book12.csv\", encoding='cp1252', header=None)"
   ]
  },
  {
   "cell_type": "code",
   "execution_count": 4,
   "id": "a40f1f01",
   "metadata": {
    "scrolled": true
   },
   "outputs": [
    {
     "data": {
      "text/plain": [
       "(13816, 2)"
      ]
     },
     "execution_count": 4,
     "metadata": {},
     "output_type": "execute_result"
    }
   ],
   "source": [
    "df.shape"
   ]
  },
  {
   "cell_type": "code",
   "execution_count": 5,
   "id": "c68c8972",
   "metadata": {},
   "outputs": [
    {
     "data": {
      "text/html": [
       "<div>\n",
       "<style scoped>\n",
       "    .dataframe tbody tr th:only-of-type {\n",
       "        vertical-align: middle;\n",
       "    }\n",
       "\n",
       "    .dataframe tbody tr th {\n",
       "        vertical-align: top;\n",
       "    }\n",
       "\n",
       "    .dataframe thead th {\n",
       "        text-align: right;\n",
       "    }\n",
       "</style>\n",
       "<table border=\"1\" class=\"dataframe\">\n",
       "  <thead>\n",
       "    <tr style=\"text-align: right;\">\n",
       "      <th></th>\n",
       "      <th>0</th>\n",
       "      <th>1</th>\n",
       "    </tr>\n",
       "  </thead>\n",
       "  <tbody>\n",
       "    <tr>\n",
       "      <th>0</th>\n",
       "      <td>Pour quelque chose d aussi splendide que ce fi...</td>\n",
       "      <td>0</td>\n",
       "    </tr>\n",
       "    <tr>\n",
       "      <th>1</th>\n",
       "      <td>Ceci est un film etonnant, un tour de force un...</td>\n",
       "      <td>0</td>\n",
       "    </tr>\n",
       "    <tr>\n",
       "      <th>2</th>\n",
       "      <td>Peut etre plus genial qu ingenieux, mais cela ...</td>\n",
       "      <td>0</td>\n",
       "    </tr>\n",
       "    <tr>\n",
       "      <th>3</th>\n",
       "      <td>Il y a une liberte de regarder des cascades qu...</td>\n",
       "      <td>0</td>\n",
       "    </tr>\n",
       "    <tr>\n",
       "      <th>4</th>\n",
       "      <td>Si le smoking etait reellement un costume, il ...</td>\n",
       "      <td>0</td>\n",
       "    </tr>\n",
       "  </tbody>\n",
       "</table>\n",
       "</div>"
      ],
      "text/plain": [
       "                                                   0  1\n",
       "0  Pour quelque chose d aussi splendide que ce fi...  0\n",
       "1  Ceci est un film etonnant, un tour de force un...  0\n",
       "2  Peut etre plus genial qu ingenieux, mais cela ...  0\n",
       "3  Il y a une liberte de regarder des cascades qu...  0\n",
       "4  Si le smoking etait reellement un costume, il ...  0"
      ]
     },
     "execution_count": 5,
     "metadata": {},
     "output_type": "execute_result"
    }
   ],
   "source": [
    "df.head()"
   ]
  },
  {
   "cell_type": "markdown",
   "id": "f1019455",
   "metadata": {},
   "source": [
    "##### We will take all the data because i don't know how to shuffle it"
   ]
  },
  {
   "cell_type": "code",
   "execution_count": 6,
   "id": "1273114e",
   "metadata": {},
   "outputs": [],
   "source": [
    "batch_1 = df[1:13814]"
   ]
  },
  {
   "cell_type": "markdown",
   "id": "396ce312",
   "metadata": {},
   "source": [
    "## Loading the Pre-trained BERT model \n",
    "\n"
   ]
  },
  {
   "cell_type": "code",
   "execution_count": 7,
   "id": "f9b783db",
   "metadata": {},
   "outputs": [
    {
     "name": "stderr",
     "output_type": "stream",
     "text": [
      "Some weights of the model checkpoint at distilbert-base-uncased were not used when initializing DistilBertModel: ['vocab_projector.weight', 'vocab_layer_norm.weight', 'vocab_projector.bias', 'vocab_transform.weight', 'vocab_layer_norm.bias', 'vocab_transform.bias']\n",
      "- This IS expected if you are initializing DistilBertModel from the checkpoint of a model trained on another task or with another architecture (e.g. initializing a BertForSequenceClassification model from a BertForPreTraining model).\n",
      "- This IS NOT expected if you are initializing DistilBertModel from the checkpoint of a model that you expect to be exactly identical (initializing a BertForSequenceClassification model from a BertForSequenceClassification model).\n"
     ]
    }
   ],
   "source": [
    "# For DistilBERT:\n",
    "model_class, tokenizer_class, pretrained_weights = (ppb.DistilBertModel, ppb.DistilBertTokenizer, 'distilbert-base-uncased')\n",
    "\n",
    "#for Bert\n",
    "#model_class, tokenizer_class, pretrained_weights = (ppb.BertModel, ppb.BertTokenizer, 'bert-base-uncased')\n",
    "\n",
    "\n",
    "# Load pretrained model/tokenizer\n",
    "tokenizer = tokenizer_class.from_pretrained(pretrained_weights)\n",
    "model = model_class.from_pretrained(pretrained_weights)\n"
   ]
  },
  {
   "cell_type": "markdown",
   "id": "28cc8773",
   "metadata": {},
   "source": [
    "##### Not enough memory on cuda"
   ]
  },
  {
   "cell_type": "code",
   "execution_count": 8,
   "id": "909f7aee",
   "metadata": {},
   "outputs": [],
   "source": [
    "#device=torch.device(\"cuda\" if torch.cuda.is_available() else \"cpu\") \n",
    "#print(device)"
   ]
  },
  {
   "cell_type": "markdown",
   "id": "6ac19a07",
   "metadata": {},
   "source": [
    "## Tokenization"
   ]
  },
  {
   "cell_type": "code",
   "execution_count": 9,
   "id": "a095aec7",
   "metadata": {},
   "outputs": [],
   "source": [
    "#Break sentences into word and subwords for Bert\n",
    "tokenized = batch_1[0].apply((lambda x: tokenizer.encode(x, add_special_tokens=True)))"
   ]
  },
  {
   "cell_type": "code",
   "execution_count": 10,
   "id": "c9468d4a",
   "metadata": {},
   "outputs": [],
   "source": [
    "max_len = 0\n",
    "for i in tokenized.values:\n",
    "    if len(i) > max_len:\n",
    "        max_len = len(i)\n",
    "\n",
    "padded = np.array([i + [0]*(max_len-len(i)) for i in tokenized.values])"
   ]
  },
  {
   "cell_type": "code",
   "execution_count": 11,
   "id": "a4c81961",
   "metadata": {},
   "outputs": [
    {
     "data": {
      "text/plain": [
       "(13813, 101)"
      ]
     },
     "execution_count": 11,
     "metadata": {},
     "output_type": "execute_result"
    }
   ],
   "source": [
    "np.array(padded).shape"
   ]
  },
  {
   "cell_type": "code",
   "execution_count": 12,
   "id": "322f7379",
   "metadata": {},
   "outputs": [],
   "source": [
    "attention_mask = np.where(padded != 0, 1, 0)"
   ]
  },
  {
   "cell_type": "markdown",
   "id": "9708e505",
   "metadata": {},
   "source": [
    "##### Not enough memory on cuda\n"
   ]
  },
  {
   "cell_type": "code",
   "execution_count": 13,
   "id": "b9ec4c92",
   "metadata": {},
   "outputs": [],
   "source": [
    "#model.to(device)"
   ]
  },
  {
   "cell_type": "code",
   "execution_count": 14,
   "id": "18350c44",
   "metadata": {},
   "outputs": [],
   "source": [
    "input_ids = torch.tensor(padded) \n",
    "#input_ids.to(device)"
   ]
  },
  {
   "cell_type": "code",
   "execution_count": 15,
   "id": "a566a7f3",
   "metadata": {},
   "outputs": [],
   "source": [
    "attention_mask = torch.tensor(attention_mask)\n",
    "#attention_mask.to(device)"
   ]
  },
  {
   "cell_type": "markdown",
   "id": "beea37b4",
   "metadata": {},
   "source": [
    "#### It took 30 minutes to load the model"
   ]
  },
  {
   "cell_type": "code",
   "execution_count": null,
   "id": "43372016",
   "metadata": {},
   "outputs": [],
   "source": [
    "with torch.no_grad():\n",
    "    last_hidden_states = model(input_ids, attention_mask=attention_mask)\n",
    "\n",
    "#with torch.no_grad():\n",
    "#    last_hidden_states = model(input_ids.cuda(), attention_mask=attention_mask.cuda())"
   ]
  },
  {
   "cell_type": "markdown",
   "id": "245226b2",
   "metadata": {},
   "source": [
    "## Deep-learning\n",
    "###### The model() function runs our senstences through BERT.\n",
    "    The results of the processing will be returned into Last_hidden_states"
   ]
  },
  {
   "cell_type": "code",
   "execution_count": 17,
   "id": "6da1afd2",
   "metadata": {},
   "outputs": [
    {
     "data": {
      "text/plain": [
       "torch.Size([13813, 101])"
      ]
     },
     "execution_count": 17,
     "metadata": {},
     "output_type": "execute_result"
    }
   ],
   "source": [
    "input_ids.shape"
   ]
  },
  {
   "cell_type": "code",
   "execution_count": 18,
   "id": "ebe56cd5",
   "metadata": {},
   "outputs": [
    {
     "data": {
      "text/plain": [
       "tensor([[  101,  8292,  6895,  ...,     0,     0,     0],\n",
       "        [  101, 21877,  4904,  ...,     0,     0,     0],\n",
       "        [  101,  6335,  1061,  ...,     0,     0,     0],\n",
       "        ...,\n",
       "        [  101,  9145,  1010,  ...,     0,     0,     0],\n",
       "        [  101,  2202,  2729,  ...,     0,     0,     0],\n",
       "        [  101,  1996,  5896,  ...,     0,     0,     0]])"
      ]
     },
     "execution_count": 18,
     "metadata": {},
     "output_type": "execute_result"
    }
   ],
   "source": [
    "input_ids"
   ]
  },
  {
   "cell_type": "code",
   "execution_count": 19,
   "id": "f4e0155a",
   "metadata": {},
   "outputs": [
    {
     "data": {
      "text/plain": [
       "torch.Size([13813, 768])"
      ]
     },
     "execution_count": 19,
     "metadata": {},
     "output_type": "execute_result"
    }
   ],
   "source": [
    "features = last_hidden_states[0][:,0,:]\n",
    "#features = last_hidden_states[0][:,0,:].cpu()\n",
    "features.shape"
   ]
  },
  {
   "cell_type": "markdown",
   "id": "4d140f29",
   "metadata": {},
   "source": [
    "## Model Train/Split"
   ]
  },
  {
   "cell_type": "code",
   "execution_count": 20,
   "id": "7a85f2c4",
   "metadata": {},
   "outputs": [
    {
     "data": {
      "text/plain": [
       "1        0\n",
       "2        0\n",
       "3        0\n",
       "4        0\n",
       "5        0\n",
       "        ..\n",
       "13809    1\n",
       "13810    1\n",
       "13811    1\n",
       "13812    1\n",
       "13813    1\n",
       "Name: 1, Length: 13813, dtype: int64"
      ]
     },
     "execution_count": 20,
     "metadata": {},
     "output_type": "execute_result"
    }
   ],
   "source": [
    "labels = batch_1[1]\n",
    "labels"
   ]
  },
  {
   "cell_type": "code",
   "execution_count": 21,
   "id": "1f08d65f",
   "metadata": {},
   "outputs": [
    {
     "data": {
      "text/plain": [
       "torch.Size([3454, 768])"
      ]
     },
     "execution_count": 21,
     "metadata": {},
     "output_type": "execute_result"
    }
   ],
   "source": [
    "train_features, test_features, train_labels, test_labels = train_test_split(features, labels)\n",
    "test_features.shape\n"
   ]
  },
  {
   "cell_type": "code",
   "execution_count": 22,
   "id": "a279b683",
   "metadata": {},
   "outputs": [
    {
     "name": "stderr",
     "output_type": "stream",
     "text": [
      "/apps/python/3.9.4/lib/python3.9/site-packages/sklearn/linear_model/_logistic.py:763: ConvergenceWarning: lbfgs failed to converge (status=1):\n",
      "STOP: TOTAL NO. of ITERATIONS REACHED LIMIT.\n",
      "\n",
      "Increase the number of iterations (max_iter) or scale the data as shown in:\n",
      "    https://scikit-learn.org/stable/modules/preprocessing.html\n",
      "Please also refer to the documentation for alternative solver options:\n",
      "    https://scikit-learn.org/stable/modules/linear_model.html#logistic-regression\n",
      "  n_iter_i = _check_optimize_result(\n"
     ]
    },
    {
     "data": {
      "text/plain": [
       "LogisticRegression()"
      ]
     },
     "execution_count": 22,
     "metadata": {},
     "output_type": "execute_result"
    }
   ],
   "source": [
    "lr_clf = LogisticRegression()\n",
    "lr_clf.fit(train_features, train_labels)"
   ]
  },
  {
   "cell_type": "code",
   "execution_count": 23,
   "id": "49b33bb8",
   "metadata": {},
   "outputs": [
    {
     "data": {
      "text/plain": [
       "0.9971048060220035"
      ]
     },
     "execution_count": 23,
     "metadata": {},
     "output_type": "execute_result"
    }
   ],
   "source": [
    "lr_clf.score(test_features, test_labels)"
   ]
  },
  {
   "cell_type": "markdown",
   "id": "ac3e25ac",
   "metadata": {},
   "source": [
    "## Test a French sentence"
   ]
  },
  {
   "cell_type": "code",
   "execution_count": 24,
   "id": "59c06321",
   "metadata": {},
   "outputs": [],
   "source": [
    "df2 = pd.read_csv('Book13-francais.csv', header=None)\n",
    "batch_2 = df2"
   ]
  },
  {
   "cell_type": "code",
   "execution_count": 25,
   "id": "99126cb2",
   "metadata": {},
   "outputs": [
    {
     "data": {
      "text/plain": [
       "0    [101, 3802, 15068, 2072, 15333, 24086, 2015, 2...\n",
       "Name: 0, dtype: object"
      ]
     },
     "execution_count": 25,
     "metadata": {},
     "output_type": "execute_result"
    }
   ],
   "source": [
    "#Break sentences into word and subwords for Bert\n",
    "tokenized2= df2[0].apply((lambda x: tokenizer.encode(x, add_special_tokens=True)))\n",
    "tokenized2"
   ]
  },
  {
   "cell_type": "code",
   "execution_count": 26,
   "id": "7e72c969",
   "metadata": {},
   "outputs": [
    {
     "data": {
      "text/plain": [
       "array([1])"
      ]
     },
     "execution_count": 26,
     "metadata": {},
     "output_type": "execute_result"
    }
   ],
   "source": [
    "padded2=tokenized2\n",
    "attention_mask2 = np.where(padded2 != 0, 1, 0)\n",
    "attention_mask2"
   ]
  },
  {
   "cell_type": "code",
   "execution_count": 27,
   "id": "91631691",
   "metadata": {},
   "outputs": [
    {
     "data": {
      "text/plain": [
       "0    1\n",
       "Name: 1, dtype: int64"
      ]
     },
     "execution_count": 27,
     "metadata": {},
     "output_type": "execute_result"
    }
   ],
   "source": [
    "labels2=df2[1]\n",
    "labels2"
   ]
  },
  {
   "cell_type": "code",
   "execution_count": 28,
   "id": "58aed69d",
   "metadata": {},
   "outputs": [],
   "source": [
    "input_ids2 = torch.tensor(tokenized2)  \n",
    "attention_mask2=torch.tensor(attention_mask2)\n",
    "with torch.no_grad():\n",
    "    last_hidden_states2=model(input_ids2)"
   ]
  },
  {
   "cell_type": "code",
   "execution_count": 29,
   "id": "a0c17381",
   "metadata": {},
   "outputs": [],
   "source": [
    "features2=last_hidden_states2[0][:,0,:].numpy()"
   ]
  },
  {
   "cell_type": "markdown",
   "id": "48d53658",
   "metadata": {
    "scrolled": true
   },
   "source": [
    "lr_clf.decision_function()"
   ]
  },
  {
   "cell_type": "code",
   "execution_count": 31,
   "id": "90f1f994",
   "metadata": {},
   "outputs": [],
   "source": [
    "def test(X):\n",
    "    if lr_clf.decision_function(X)>=0:\n",
    "        return('The sentence may be english')\n",
    "    else:\n",
    "        return('The sentence may be french')"
   ]
  },
  {
   "cell_type": "code",
   "execution_count": 32,
   "id": "31de57c9",
   "metadata": {},
   "outputs": [
    {
     "data": {
      "text/plain": [
       "'The sentence may be french'"
      ]
     },
     "execution_count": 32,
     "metadata": {},
     "output_type": "execute_result"
    }
   ],
   "source": [
    "test(features2)"
   ]
  },
  {
   "cell_type": "markdown",
   "id": "f603e0dc",
   "metadata": {},
   "source": [
    "## End Time"
   ]
  },
  {
   "cell_type": "code",
   "execution_count": 33,
   "id": "af0fe50d",
   "metadata": {},
   "outputs": [
    {
     "name": "stdout",
     "output_type": "stream",
     "text": [
      "2147.238273382187\n"
     ]
    }
   ],
   "source": [
    "end=time.time()\n",
    "print(end-start)"
   ]
  },
  {
   "cell_type": "code",
   "execution_count": null,
   "id": "d10deba1",
   "metadata": {},
   "outputs": [],
   "source": []
  }
 ],
 "metadata": {
  "kernelspec": {
   "display_name": "Python 3 (ipykernel)",
   "language": "python",
   "name": "python3"
  },
  "language_info": {
   "codemirror_mode": {
    "name": "ipython",
    "version": 3
   },
   "file_extension": ".py",
   "mimetype": "text/x-python",
   "name": "python",
   "nbconvert_exporter": "python",
   "pygments_lexer": "ipython3",
   "version": "3.9.4"
  }
 },
 "nbformat": 4,
 "nbformat_minor": 5
}
